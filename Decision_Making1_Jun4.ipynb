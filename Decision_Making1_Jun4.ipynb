{
 "cells": [
  {
   "cell_type": "code",
   "execution_count": 1,
   "id": "02858b53",
   "metadata": {},
   "outputs": [
    {
     "name": "stdout",
     "output_type": "stream",
     "text": [
      "Enter the number 5\n"
     ]
    }
   ],
   "source": [
    "# check if a number is greater than 50\n",
    "\n",
    "num = int(input('Enter the number '))\n",
    "\n",
    "if num > 50:\n",
    "    print('OK')"
   ]
  },
  {
   "cell_type": "code",
   "execution_count": 2,
   "id": "079a5b87",
   "metadata": {},
   "outputs": [
    {
     "name": "stdout",
     "output_type": "stream",
     "text": [
      "Enter the number 56\n",
      "Positive\n",
      "Ok\n"
     ]
    }
   ],
   "source": [
    "# check if a number is positive or negative\n",
    "\n",
    "num = int(input('Enter the number '))\n",
    "\n",
    "if num > 0:\n",
    "    print('Positive')\n",
    "    print('Ok')\n",
    "else:\n",
    "    print('Negative')\n",
    "    print('GoodBye!!!')"
   ]
  },
  {
   "cell_type": "code",
   "execution_count": 3,
   "id": "fe509a75",
   "metadata": {},
   "outputs": [
    {
     "name": "stdout",
     "output_type": "stream",
     "text": [
      "Enter the number 54\n",
      "Positive\n"
     ]
    }
   ],
   "source": [
    "num = int(input('Enter the number '))\n",
    "\n",
    "if num > 0:\n",
    "    print('Positive')\n",
    "elif num == 0:\n",
    "    print('ZERO')\n",
    "else:\n",
    "    print('Negative')"
   ]
  },
  {
   "cell_type": "code",
   "execution_count": 4,
   "id": "a15fff05",
   "metadata": {},
   "outputs": [
    {
     "name": "stdout",
     "output_type": "stream",
     "text": [
      "Enter the number 4\n",
      "Even\n"
     ]
    }
   ],
   "source": [
    "# even or odd\n",
    "\n",
    "num = int(input('Enter the number '))\n",
    "\n",
    "if num % 2 == 0:\n",
    "    print('Even')\n",
    "else:\n",
    "    print('ODD')"
   ]
  },
  {
   "cell_type": "code",
   "execution_count": 5,
   "id": "45d9e55e",
   "metadata": {},
   "outputs": [
    {
     "data": {
      "text/plain": [
       "0"
      ]
     },
     "execution_count": 5,
     "metadata": {},
     "output_type": "execute_result"
    }
   ],
   "source": [
    "int(False)"
   ]
  },
  {
   "cell_type": "code",
   "execution_count": 6,
   "id": "3fe5ad8b",
   "metadata": {},
   "outputs": [
    {
     "data": {
      "text/plain": [
       "1"
      ]
     },
     "execution_count": 6,
     "metadata": {},
     "output_type": "execute_result"
    }
   ],
   "source": [
    "int(True)"
   ]
  },
  {
   "cell_type": "code",
   "execution_count": 7,
   "id": "04ae6843",
   "metadata": {},
   "outputs": [
    {
     "data": {
      "text/plain": [
       "2"
      ]
     },
     "execution_count": 7,
     "metadata": {},
     "output_type": "execute_result"
    }
   ],
   "source": [
    "True + True + False"
   ]
  },
  {
   "cell_type": "code",
   "execution_count": 9,
   "id": "3583e4f1",
   "metadata": {},
   "outputs": [
    {
     "name": "stdout",
     "output_type": "stream",
     "text": [
      "ok\n"
     ]
    }
   ],
   "source": [
    "b = 56\n",
    "\n",
    "if b:\n",
    "    print('ok')"
   ]
  },
  {
   "cell_type": "code",
   "execution_count": 12,
   "id": "7d4c1897",
   "metadata": {},
   "outputs": [
    {
     "name": "stdout",
     "output_type": "stream",
     "text": [
      "Enter the number 10\n",
      "Not Correct\n"
     ]
    }
   ],
   "source": [
    "# check if the number is in between 50 and 150\n",
    "\n",
    "num = int(input('Enter the number '))\n",
    "\n",
    "if num > 50:\n",
    "    if num < 150:\n",
    "        print('Correct')\n",
    "    else:\n",
    "        print('Greater than 150')\n",
    "else:\n",
    "    print('Not Correct')"
   ]
  },
  {
   "cell_type": "code",
   "execution_count": 15,
   "id": "95d51403",
   "metadata": {},
   "outputs": [
    {
     "name": "stdout",
     "output_type": "stream",
     "text": [
      "Enter the number 157\n",
      "Incorrect\n"
     ]
    }
   ],
   "source": [
    "num = int(input('Enter the number '))\n",
    "\n",
    "if num > 50 and num < 150:\n",
    "    print('correct')\n",
    "else:\n",
    "    print('Incorrect')"
   ]
  },
  {
   "cell_type": "code",
   "execution_count": 16,
   "id": "575ebf8e",
   "metadata": {},
   "outputs": [],
   "source": [
    "# read the purchase cost and selling cost\n",
    "# state profit or loss and how much ?"
   ]
  },
  {
   "cell_type": "code",
   "execution_count": 17,
   "id": "7c8f2742",
   "metadata": {},
   "outputs": [
    {
     "name": "stdout",
     "output_type": "stream",
     "text": [
      "Enter the selling cost1000\n",
      "Enter the purchase cost700\n",
      "Profit: 300\n"
     ]
    }
   ],
   "source": [
    "selling_cost = int(input('Enter the selling cost'))\n",
    "purchase_cost = int(input('Enter the purchase cost'))\n",
    "\n",
    "if selling_cost > purchase_cost:\n",
    "    print('Profit:', selling_cost - purchase_cost)\n",
    "else:\n",
    "    print('Loss:', purchase_cost - selling_cost)"
   ]
  },
  {
   "cell_type": "code",
   "execution_count": 18,
   "id": "b5e1d147",
   "metadata": {},
   "outputs": [
    {
     "name": "stdout",
     "output_type": "stream",
     "text": [
      "Enter Num1 :- 10\n",
      "Enter Num2 :- 20\n",
      "Enter Num3 :- 30\n",
      "Num3 is Greater\n"
     ]
    }
   ],
   "source": [
    "# take 3 numbers find the largest of them\n",
    "# not allowed to use 'and' or 'or'\n",
    "\n",
    "\n",
    "num1 = int(input(\"Enter Num1 :- \"))\n",
    "num2 = int(input(\"Enter Num2 :- \"))\n",
    "num3 = int(input(\"Enter Num3 :- \"))\n",
    "\n",
    "if num1 > num2:\n",
    "    if num1 > num3:\n",
    "        print(\"Num1 is greater\")\n",
    "    else:\n",
    "        print(\"Num3 is greater\")\n",
    "else:\n",
    "    if num2 > num3:\n",
    "        print(\"Num2 is greater\")\n",
    "    else:\n",
    "        print(\"Num3 is Greater\")"
   ]
  },
  {
   "cell_type": "code",
   "execution_count": 22,
   "id": "de6f7a23",
   "metadata": {},
   "outputs": [
    {
     "name": "stdout",
     "output_type": "stream",
     "text": [
      "Enter the year: 1700\n",
      "Century Year but not Leap\n"
     ]
    }
   ],
   "source": [
    "'''\n",
    "2000 => leap\n",
    "2020 => leap\n",
    "2018 => not leap\n",
    "1800 => not leap\n",
    "'''\n",
    "\n",
    "# write a programm to find if an year is a leap or not\n",
    "\n",
    "year = int(input('Enter the year: '))\n",
    "\n",
    "if year % 4 == 0:\n",
    "    if year % 100 == 0:    # checking if it is century year\n",
    "        if year % 400 == 0:\n",
    "            print('Leap Century Year')\n",
    "        else:\n",
    "            print('Century Year but not Leap')\n",
    "    else:\n",
    "        print('Leap Year')\n",
    "else:\n",
    "    print('Not a Leap Year')"
   ]
  },
  {
   "cell_type": "code",
   "execution_count": 28,
   "id": "f33b3fda",
   "metadata": {},
   "outputs": [
    {
     "name": "stdout",
     "output_type": "stream",
     "text": [
      "Enter the marks: 9\n",
      "Fail\n"
     ]
    }
   ],
   "source": [
    "'''> 60 fs\n",
    "> 50 sf\n",
    "> 40 tf\n",
    "> 35 pass\n",
    "<= 35 fail\n",
    "'''\n",
    "\n",
    "marks = float(input('Enter the marks: '))\n",
    "\n",
    "if marks >= 60:\n",
    "    print('first class')\n",
    "elif marks >= 50:\n",
    "    print('second class')\n",
    "elif marks >= 40:\n",
    "    print('third class')\n",
    "elif marks >= 35:\n",
    "    print('pass')\n",
    "else:\n",
    "    print('Fail')"
   ]
  },
  {
   "cell_type": "code",
   "execution_count": 30,
   "id": "890fdd04",
   "metadata": {},
   "outputs": [
    {
     "name": "stdout",
     "output_type": "stream",
     "text": [
      "Enter the marks: 67\n",
      "pass\n"
     ]
    }
   ],
   "source": [
    "marks = float(input('Enter the marks: '))\n",
    "\n",
    "\n",
    "if marks >= 35:\n",
    "    print('pass')\n",
    "elif marks >= 60:\n",
    "    print('first class')\n",
    "elif marks >= 50:\n",
    "    print('second class')\n",
    "elif marks >= 40:\n",
    "    print('third class')\n",
    "else:\n",
    "    print('Fail')"
   ]
  },
  {
   "cell_type": "code",
   "execution_count": 36,
   "id": "69dc7bd6",
   "metadata": {},
   "outputs": [
    {
     "name": "stdout",
     "output_type": "stream",
     "text": [
      "Enter the number 5\n",
      "MENU:\n",
      "1.Square\n",
      "2.Cube\n",
      "3.Check Positive or Negative\n",
      "Enter your choice 100\n",
      "You must've forgotton ur specs or brain\n"
     ]
    }
   ],
   "source": [
    "# menu driven\n",
    "\n",
    "'''\n",
    "based on the choice it will do square, cube or check +ve or\n",
    "-ve\n",
    "'''\n",
    "\n",
    "num = int(input('Enter the number '))\n",
    "\n",
    "print('MENU:\\n1.Square\\n2.Cube\\n3.Check Positive or Negative')\n",
    "\n",
    "choice = int(input('Enter your choice '))\n",
    "\n",
    "if choice == 1:\n",
    "    print('Square is:', num * num)\n",
    "elif choice == 2:\n",
    "    print('Cube is:', num ** 3)\n",
    "elif choice == 3:\n",
    "    if num > 0:\n",
    "        print('Positive')\n",
    "    else:\n",
    "        print('Negative')\n",
    "else:\n",
    "    print(\"You must've forgotton ur specs or brain\")"
   ]
  },
  {
   "cell_type": "code",
   "execution_count": null,
   "id": "043d7445",
   "metadata": {},
   "outputs": [],
   "source": [
    "# read 2 numbers and perform add, substract, floor div,\n",
    "# which one is greater based on the choice\n",
    "\n"
   ]
  }
 ],
 "metadata": {
  "kernelspec": {
   "display_name": "Python 3 (ipykernel)",
   "language": "python",
   "name": "python3"
  },
  "language_info": {
   "codemirror_mode": {
    "name": "ipython",
    "version": 3
   },
   "file_extension": ".py",
   "mimetype": "text/x-python",
   "name": "python",
   "nbconvert_exporter": "python",
   "pygments_lexer": "ipython3",
   "version": "3.11.5"
  }
 },
 "nbformat": 4,
 "nbformat_minor": 5
}
